{
 "cells": [
  {
   "cell_type": "markdown",
   "metadata": {
    "id": "3DR-eO17geWu"
   },
   "source": [
    "# Convolutional Neural Network"
   ]
  },
  {
   "cell_type": "markdown",
   "metadata": {
    "id": "EMefrVPCg-60"
   },
   "source": [
    "### Importing the libraries"
   ]
  },
  {
   "cell_type": "code",
   "execution_count": 1,
   "metadata": {
    "id": "sCV30xyVhFbE"
   },
   "outputs": [],
   "source": [
    "import tensorflow as tf\n",
    "from keras.preprocessing.image import ImageDataGenerator"
   ]
  },
  {
   "cell_type": "code",
   "execution_count": 2,
   "metadata": {
    "id": "FIleuCAjoFD8"
   },
   "outputs": [
    {
     "data": {
      "text/plain": [
       "'2.14.0'"
      ]
     },
     "execution_count": 2,
     "metadata": {},
     "output_type": "execute_result"
    }
   ],
   "source": [
    "tf.__version__"
   ]
  },
  {
   "cell_type": "markdown",
   "metadata": {
    "id": "oxQxCBWyoGPE"
   },
   "source": [
    "## Part 1 - Data Preprocessing"
   ]
  },
  {
   "cell_type": "markdown",
   "metadata": {
    "id": "MvE-heJNo3GG"
   },
   "source": [
    "### Preprocessing the Training set"
   ]
  },
  {
   "cell_type": "code",
   "execution_count": 3,
   "metadata": {
    "id": "0koUcJMJpEBD"
   },
   "outputs": [
    {
     "name": "stdout",
     "output_type": "stream",
     "text": [
      "Found 2035 images belonging to 3 classes.\n"
     ]
    }
   ],
   "source": [
    "train_datagen = ImageDataGenerator(rescale = 1./255,\n",
    "                                   shear_range = 0.2,\n",
    "                                   zoom_range = 0.2,\n",
    "                                   horizontal_flip = True)\n",
    "training_set = train_datagen.flow_from_directory('dataset/training_set',\n",
    "                                                 target_size = (150, 150),\n",
    "                                                 batch_size = 32,\n",
    "                                                 class_mode = 'categorical')"
   ]
  },
  {
   "cell_type": "markdown",
   "metadata": {
    "id": "mrCMmGw9pHys"
   },
   "source": [
    "### Preprocessing the Test set"
   ]
  },
  {
   "cell_type": "code",
   "execution_count": 4,
   "metadata": {
    "id": "SH4WzfOhpKc3"
   },
   "outputs": [
    {
     "name": "stdout",
     "output_type": "stream",
     "text": [
      "Found 527 images belonging to 3 classes.\n"
     ]
    }
   ],
   "source": [
    "test_datagen = ImageDataGenerator(rescale = 1./255)\n",
    "test_set = test_datagen.flow_from_directory('dataset/test_set',\n",
    "                                            target_size = (150, 150),\n",
    "                                            batch_size = 32,\n",
    "                                            class_mode = 'categorical')"
   ]
  },
  {
   "cell_type": "markdown",
   "metadata": {
    "id": "af8O4l90gk7B"
   },
   "source": [
    "## Part 2 - Building the CNN"
   ]
  },
  {
   "cell_type": "markdown",
   "metadata": {
    "id": "ces1gXY2lmoX"
   },
   "source": [
    "### Initialising the CNN"
   ]
  },
  {
   "cell_type": "code",
   "execution_count": 5,
   "metadata": {
    "id": "SAUt4UMPlhLS"
   },
   "outputs": [],
   "source": [
    "cnn = tf.keras.models.Sequential()"
   ]
  },
  {
   "cell_type": "markdown",
   "metadata": {
    "id": "u5YJj_XMl5LF"
   },
   "source": [
    "### Step 1 - Convolution"
   ]
  },
  {
   "cell_type": "code",
   "execution_count": 6,
   "metadata": {
    "id": "XPzPrMckl-hV"
   },
   "outputs": [],
   "source": [
    "cnn.add(tf.keras.layers.Conv2D(filters = 32, kernel_size=3, activation='relu', input_shape=[150,150, 3]))"
   ]
  },
  {
   "cell_type": "markdown",
   "metadata": {
    "id": "tf87FpvxmNOJ"
   },
   "source": [
    "### Step 2 - Pooling"
   ]
  },
  {
   "cell_type": "code",
   "execution_count": 7,
   "metadata": {
    "id": "ncpqPl69mOac"
   },
   "outputs": [],
   "source": [
    "cnn.add(tf.keras.layers.MaxPool2D(pool_size=2, strides=2))"
   ]
  },
  {
   "cell_type": "markdown",
   "metadata": {
    "id": "xaTOgD8rm4mU"
   },
   "source": [
    "### Adding a second convolutional layer"
   ]
  },
  {
   "cell_type": "code",
   "execution_count": 8,
   "metadata": {
    "id": "i_-FZjn_m8gk"
   },
   "outputs": [],
   "source": [
    "cnn.add(tf.keras.layers.Conv2D(filters=32, kernel_size=3, activation='relu'))\n",
    "cnn.add(tf.keras.layers.MaxPool2D(pool_size=2, strides=2))"
   ]
  },
  {
   "cell_type": "markdown",
   "metadata": {
    "id": "v5SsfIAREP8n"
   },
   "source": [
    "**adding a third convolutional layer**"
   ]
  },
  {
   "cell_type": "code",
   "execution_count": 9,
   "metadata": {
    "id": "qHHShgI1EYuW"
   },
   "outputs": [],
   "source": [
    "cnn.add(tf.keras.layers.Conv2D(filters=32, kernel_size=3, activation='relu'))\n",
    "cnn.add(tf.keras.layers.MaxPool2D(pool_size=2, strides=2))"
   ]
  },
  {
   "cell_type": "code",
   "execution_count": 10,
   "metadata": {
    "id": "bD2J6XjhEePm"
   },
   "outputs": [],
   "source": [
    "cnn.add(tf.keras.layers.Conv2D(filters=32, kernel_size=3, activation='relu'))\n",
    "cnn.add(tf.keras.layers.MaxPool2D(pool_size=2, strides=2))"
   ]
  },
  {
   "cell_type": "markdown",
   "metadata": {
    "id": "tmiEuvTunKfk"
   },
   "source": [
    "### Step 3 - Flattening"
   ]
  },
  {
   "cell_type": "code",
   "execution_count": 11,
   "metadata": {
    "id": "6AZeOGCvnNZn"
   },
   "outputs": [],
   "source": [
    "cnn.add(tf.keras.layers.Flatten())"
   ]
  },
  {
   "cell_type": "markdown",
   "metadata": {
    "id": "dAoSECOm203v"
   },
   "source": [
    "### Step 4 - Full Connection"
   ]
  },
  {
   "cell_type": "code",
   "execution_count": 12,
   "metadata": {
    "id": "QbQdxurjRVC8"
   },
   "outputs": [],
   "source": [
    "cnn.add(tf.keras.layers.Dense(units=128, activation='relu'))"
   ]
  },
  {
   "cell_type": "code",
   "execution_count": 13,
   "metadata": {
    "id": "8GtmUlLd26Nq"
   },
   "outputs": [],
   "source": [
    "cnn.add(tf.keras.layers.Dense(units=128, activation='relu'))"
   ]
  },
  {
   "cell_type": "code",
   "execution_count": 14,
   "metadata": {
    "id": "X5JggUqPGB1y"
   },
   "outputs": [],
   "source": [
    "cnn.add(tf.keras.layers.Dense(units=128, activation='relu'))"
   ]
  },
  {
   "cell_type": "markdown",
   "metadata": {
    "id": "yTldFvbX28Na"
   },
   "source": [
    "### Step 5 - Output Layer"
   ]
  },
  {
   "cell_type": "code",
   "execution_count": 15,
   "metadata": {
    "id": "1p_Zj1Mc3Ko_"
   },
   "outputs": [],
   "source": [
    "cnn.add(tf.keras.layers.Dense(units=3, activation='softmax'))"
   ]
  },
  {
   "cell_type": "markdown",
   "metadata": {
    "id": "D6XkI90snSDl"
   },
   "source": [
    "## Part 3 - Training the CNN"
   ]
  },
  {
   "cell_type": "markdown",
   "metadata": {
    "id": "vfrFQACEnc6i"
   },
   "source": [
    "### Compiling the CNN"
   ]
  },
  {
   "cell_type": "code",
   "execution_count": 16,
   "metadata": {
    "id": "NALksrNQpUlJ"
   },
   "outputs": [],
   "source": [
    "cnn.compile(optimizer = 'adam', loss = 'categorical_crossentropy', metrics = ['accuracy'])"
   ]
  },
  {
   "cell_type": "markdown",
   "metadata": {
    "id": "ehS-v3MIpX2h"
   },
   "source": [
    "### Training the CNN on the Training set and evaluating it on the Test set"
   ]
  },
  {
   "cell_type": "code",
   "execution_count": 17,
   "metadata": {
    "id": "XUj1W4PJptta"
   },
   "outputs": [
    {
     "name": "stdout",
     "output_type": "stream",
     "text": [
      "Epoch 1/50\n",
      "64/64 [==============================] - 26s 392ms/step - loss: 0.6557 - accuracy: 0.6855 - val_loss: 0.3380 - val_accuracy: 0.8786\n",
      "Epoch 2/50\n",
      "64/64 [==============================] - 25s 384ms/step - loss: 0.4095 - accuracy: 0.8413 - val_loss: 0.2946 - val_accuracy: 0.8861\n",
      "Epoch 3/50\n",
      "64/64 [==============================] - 23s 363ms/step - loss: 0.3214 - accuracy: 0.8801 - val_loss: 0.3014 - val_accuracy: 0.8843\n",
      "Epoch 4/50\n",
      "64/64 [==============================] - 24s 366ms/step - loss: 0.2955 - accuracy: 0.8875 - val_loss: 0.2504 - val_accuracy: 0.9051\n",
      "Epoch 5/50\n",
      "64/64 [==============================] - 24s 366ms/step - loss: 0.3301 - accuracy: 0.8708 - val_loss: 0.3151 - val_accuracy: 0.8691\n",
      "Epoch 6/50\n",
      "64/64 [==============================] - 24s 380ms/step - loss: 0.2522 - accuracy: 0.9101 - val_loss: 0.2617 - val_accuracy: 0.9032\n",
      "Epoch 7/50\n",
      "64/64 [==============================] - 24s 378ms/step - loss: 0.2596 - accuracy: 0.8993 - val_loss: 0.3858 - val_accuracy: 0.8254\n",
      "Epoch 8/50\n",
      "64/64 [==============================] - 24s 371ms/step - loss: 0.2559 - accuracy: 0.8973 - val_loss: 0.2491 - val_accuracy: 0.9089\n",
      "Epoch 9/50\n",
      "64/64 [==============================] - 24s 365ms/step - loss: 0.2279 - accuracy: 0.9238 - val_loss: 0.3870 - val_accuracy: 0.8710\n",
      "Epoch 10/50\n",
      "64/64 [==============================] - 24s 366ms/step - loss: 0.2258 - accuracy: 0.9125 - val_loss: 0.1864 - val_accuracy: 0.9241\n",
      "Epoch 11/50\n",
      "64/64 [==============================] - 24s 370ms/step - loss: 0.2289 - accuracy: 0.9115 - val_loss: 0.2531 - val_accuracy: 0.9013\n",
      "Epoch 12/50\n",
      "64/64 [==============================] - 24s 368ms/step - loss: 0.2580 - accuracy: 0.8993 - val_loss: 0.1770 - val_accuracy: 0.9374\n",
      "Epoch 13/50\n",
      "64/64 [==============================] - 24s 368ms/step - loss: 0.2078 - accuracy: 0.9219 - val_loss: 0.2764 - val_accuracy: 0.8899\n",
      "Epoch 14/50\n",
      "64/64 [==============================] - 24s 368ms/step - loss: 0.2463 - accuracy: 0.9101 - val_loss: 0.7064 - val_accuracy: 0.6888\n",
      "Epoch 15/50\n",
      "64/64 [==============================] - 24s 366ms/step - loss: 0.2511 - accuracy: 0.8943 - val_loss: 0.3262 - val_accuracy: 0.8880\n",
      "Epoch 16/50\n",
      "64/64 [==============================] - 24s 370ms/step - loss: 0.1899 - accuracy: 0.9283 - val_loss: 0.3564 - val_accuracy: 0.8843\n",
      "Epoch 17/50\n",
      "64/64 [==============================] - 24s 366ms/step - loss: 0.1697 - accuracy: 0.9371 - val_loss: 0.3565 - val_accuracy: 0.8805\n",
      "Epoch 18/50\n",
      "64/64 [==============================] - 24s 371ms/step - loss: 0.1761 - accuracy: 0.9322 - val_loss: 0.2088 - val_accuracy: 0.9298\n",
      "Epoch 19/50\n",
      "64/64 [==============================] - 24s 369ms/step - loss: 0.1918 - accuracy: 0.9278 - val_loss: 0.2173 - val_accuracy: 0.9165\n",
      "Epoch 20/50\n",
      "64/64 [==============================] - 24s 379ms/step - loss: 0.1850 - accuracy: 0.9273 - val_loss: 0.2452 - val_accuracy: 0.9108\n",
      "Epoch 21/50\n",
      "64/64 [==============================] - 24s 377ms/step - loss: 0.1630 - accuracy: 0.9342 - val_loss: 0.3025 - val_accuracy: 0.8861\n",
      "Epoch 22/50\n",
      "64/64 [==============================] - 25s 394ms/step - loss: 0.1641 - accuracy: 0.9351 - val_loss: 0.2961 - val_accuracy: 0.8918\n",
      "Epoch 23/50\n",
      "64/64 [==============================] - 25s 385ms/step - loss: 0.1569 - accuracy: 0.9415 - val_loss: 0.4139 - val_accuracy: 0.8824\n",
      "Epoch 24/50\n",
      "64/64 [==============================] - 25s 391ms/step - loss: 0.1686 - accuracy: 0.9376 - val_loss: 0.3286 - val_accuracy: 0.8861\n",
      "Epoch 25/50\n",
      "64/64 [==============================] - 25s 396ms/step - loss: 0.1637 - accuracy: 0.9361 - val_loss: 0.4893 - val_accuracy: 0.8539\n",
      "Epoch 26/50\n",
      "64/64 [==============================] - 25s 383ms/step - loss: 0.1546 - accuracy: 0.9386 - val_loss: 0.3040 - val_accuracy: 0.9013\n",
      "Epoch 27/50\n",
      "64/64 [==============================] - 25s 388ms/step - loss: 0.1583 - accuracy: 0.9405 - val_loss: 0.2795 - val_accuracy: 0.9070\n",
      "Epoch 28/50\n",
      "64/64 [==============================] - 25s 386ms/step - loss: 0.1542 - accuracy: 0.9376 - val_loss: 0.2431 - val_accuracy: 0.9089\n",
      "Epoch 29/50\n",
      "64/64 [==============================] - 25s 385ms/step - loss: 0.1564 - accuracy: 0.9445 - val_loss: 0.5797 - val_accuracy: 0.8501\n",
      "Epoch 30/50\n",
      "64/64 [==============================] - 25s 385ms/step - loss: 0.1387 - accuracy: 0.9479 - val_loss: 0.3099 - val_accuracy: 0.9070\n",
      "Epoch 31/50\n",
      "64/64 [==============================] - 25s 391ms/step - loss: 0.2017 - accuracy: 0.9204 - val_loss: 0.3196 - val_accuracy: 0.8994\n",
      "Epoch 32/50\n",
      "64/64 [==============================] - 25s 393ms/step - loss: 0.1316 - accuracy: 0.9484 - val_loss: 0.3677 - val_accuracy: 0.9013\n",
      "Epoch 33/50\n",
      "64/64 [==============================] - 25s 390ms/step - loss: 0.1352 - accuracy: 0.9499 - val_loss: 0.3670 - val_accuracy: 0.8767\n",
      "Epoch 34/50\n",
      "64/64 [==============================] - 25s 395ms/step - loss: 0.1533 - accuracy: 0.9361 - val_loss: 0.4058 - val_accuracy: 0.8539\n",
      "Epoch 35/50\n",
      "64/64 [==============================] - 24s 380ms/step - loss: 0.1370 - accuracy: 0.9459 - val_loss: 0.4176 - val_accuracy: 0.8918\n",
      "Epoch 36/50\n",
      "64/64 [==============================] - 25s 391ms/step - loss: 0.1496 - accuracy: 0.9430 - val_loss: 0.3626 - val_accuracy: 0.8956\n",
      "Epoch 37/50\n",
      "64/64 [==============================] - 24s 381ms/step - loss: 0.1332 - accuracy: 0.9494 - val_loss: 0.3105 - val_accuracy: 0.8767\n",
      "Epoch 38/50\n",
      "64/64 [==============================] - 25s 390ms/step - loss: 0.1494 - accuracy: 0.9400 - val_loss: 0.3499 - val_accuracy: 0.8824\n",
      "Epoch 39/50\n",
      "64/64 [==============================] - 25s 386ms/step - loss: 0.1406 - accuracy: 0.9509 - val_loss: 0.2707 - val_accuracy: 0.9108\n",
      "Epoch 40/50\n",
      "64/64 [==============================] - 25s 390ms/step - loss: 0.1471 - accuracy: 0.9425 - val_loss: 0.5615 - val_accuracy: 0.8235\n",
      "Epoch 41/50\n",
      "64/64 [==============================] - 25s 387ms/step - loss: 0.1274 - accuracy: 0.9523 - val_loss: 0.2514 - val_accuracy: 0.9146\n",
      "Epoch 42/50\n",
      "64/64 [==============================] - 24s 379ms/step - loss: 0.1101 - accuracy: 0.9617 - val_loss: 0.2964 - val_accuracy: 0.9070\n",
      "Epoch 43/50\n",
      "64/64 [==============================] - 25s 384ms/step - loss: 0.1267 - accuracy: 0.9563 - val_loss: 0.2829 - val_accuracy: 0.8899\n",
      "Epoch 44/50\n",
      "64/64 [==============================] - 24s 376ms/step - loss: 0.1091 - accuracy: 0.9592 - val_loss: 0.4695 - val_accuracy: 0.8406\n",
      "Epoch 45/50\n",
      "64/64 [==============================] - 24s 379ms/step - loss: 0.1204 - accuracy: 0.9533 - val_loss: 0.2791 - val_accuracy: 0.9013\n",
      "Epoch 46/50\n",
      "64/64 [==============================] - 24s 377ms/step - loss: 0.1004 - accuracy: 0.9602 - val_loss: 0.3972 - val_accuracy: 0.8824\n",
      "Epoch 47/50\n",
      "64/64 [==============================] - 24s 383ms/step - loss: 0.1379 - accuracy: 0.9464 - val_loss: 0.2600 - val_accuracy: 0.9051\n",
      "Epoch 48/50\n",
      "64/64 [==============================] - 25s 385ms/step - loss: 0.0940 - accuracy: 0.9676 - val_loss: 0.4282 - val_accuracy: 0.8861\n",
      "Epoch 49/50\n",
      "64/64 [==============================] - 25s 389ms/step - loss: 0.1104 - accuracy: 0.9597 - val_loss: 0.2834 - val_accuracy: 0.9184\n",
      "Epoch 50/50\n",
      "64/64 [==============================] - 24s 376ms/step - loss: 0.1185 - accuracy: 0.9582 - val_loss: 0.3984 - val_accuracy: 0.8805\n"
     ]
    },
    {
     "data": {
      "text/plain": [
       "<keras.src.callbacks.History at 0x1b9f49a0650>"
      ]
     },
     "execution_count": 17,
     "metadata": {},
     "output_type": "execute_result"
    }
   ],
   "source": [
    "cnn.fit(x = training_set, validation_data = test_set, epochs = 50)"
   ]
  },
  {
   "cell_type": "markdown",
   "metadata": {
    "id": "U3PZasO0006Z"
   },
   "source": [
    "## Part 4 - Making a single prediction"
   ]
  },
  {
   "cell_type": "code",
   "execution_count": 33,
   "metadata": {
    "id": "gsSiWEJY1BPB"
   },
   "outputs": [
    {
     "name": "stdout",
     "output_type": "stream",
     "text": [
      "17/17 [==============================] - 2s 91ms/step\n"
     ]
    }
   ],
   "source": [
    "import numpy as np\n",
    "from keras.preprocessing import image\n",
    "result = cnn.predict(test_set)\n",
    "predicted_class_indices = np.argmax(result, axis=1)\n",
    "class_indices = training_set.class_indices  # Assuming you have the class_indices mapping from training data\n",
    "\n"
   ]
  },
  {
   "cell_type": "code",
   "execution_count": 30,
   "metadata": {
    "scrolled": true
   },
   "outputs": [
    {
     "name": "stdout",
     "output_type": "stream",
     "text": [
      "{'baren land': 0, 'deforest': 1, 'forest': 2}\n"
     ]
    }
   ],
   "source": [
    "print(training_set.class_indices )"
   ]
  },
  {
   "cell_type": "code",
   "execution_count": 38,
   "metadata": {},
   "outputs": [
    {
     "name": "stdout",
     "output_type": "stream",
     "text": [
      "1/1 [==============================] - 0s 22ms/step\n"
     ]
    }
   ],
   "source": [
    "test_image = image.load_img('dataset/single_prediction/forest.jpg', target_size = (150, 150))\n",
    "test_image = image.img_to_array(test_image)\n",
    "test_image = np.expand_dims(test_image, axis = 0)\n",
    "result = cnn.predict(test_image)\n",
    "predicted_class_index = np.argmax(result)\n",
    "class_indices = training_set.class_indices"
   ]
  },
  {
   "cell_type": "code",
   "execution_count": 39,
   "metadata": {},
   "outputs": [
    {
     "name": "stdout",
     "output_type": "stream",
     "text": [
      "1\n"
     ]
    }
   ],
   "source": [
    "print(predicted_class_index)"
   ]
  },
  {
   "cell_type": "code",
   "execution_count": null,
   "metadata": {},
   "outputs": [],
   "source": []
  }
 ],
 "metadata": {
  "accelerator": "GPU",
  "colab": {
   "gpuType": "T4",
   "provenance": []
  },
  "kernelspec": {
   "display_name": "Python 3 (ipykernel)",
   "language": "python",
   "name": "python3"
  },
  "language_info": {
   "codemirror_mode": {
    "name": "ipython",
    "version": 3
   },
   "file_extension": ".py",
   "mimetype": "text/x-python",
   "name": "python",
   "nbconvert_exporter": "python",
   "pygments_lexer": "ipython3",
   "version": "3.11.5"
  }
 },
 "nbformat": 4,
 "nbformat_minor": 1
}
